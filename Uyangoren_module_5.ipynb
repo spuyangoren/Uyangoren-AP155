{
 "cells": [
  {
   "cell_type": "markdown",
   "metadata": {
    "id": "G0BcK0H_G1Iu"
   },
   "source": [
    "# **AP155 Lab Assignment**\n",
    "## Module 5: Partial Differential Equations\n",
    "\n",
    "_Instructions_: Answer each problem as completely as you can. Discuss **all** your answers as clearly and concisely as possible.\n",
    "\n",
    "_Scoring Criteria_: 50% - *correctness of code*; 50% - *discussion of the code and results*. Maximum score is **100 points**.\n",
    "\n"
   ]
  },
  {
   "cell_type": "markdown",
   "metadata": {
    "id": "PeHZ9kP8JaVR"
   },
   "source": [
    "### Student Information\n",
    "\n",
    "_Full Name (Last Name, First Name)_: Uyangoren, Seanuel\\\n",
    "_Student No._: 2021-07208\\\n",
    "_Section_: FX-3"
   ]
  },
  {
   "cell_type": "markdown",
   "metadata": {
    "id": "Hc183co-J4eI"
   },
   "source": [
    "### Submission Information\n",
    "\n",
    "_Date and Time Submitted (most recent upload)_:\n",
    "\n",
    "**HONOR PLEDGE** I affirm that I have upheld the highest principles of honesty and integrity in my academic work and that this lab assignment is my own work.\n",
    "\n",
    "**Sign here with your full name:** Seanuel Joash Uyangoren"
   ]
  },
  {
   "cell_type": "markdown",
   "metadata": {
    "id": "ZfImNZs6FgGA"
   },
   "source": [
    "### Grading Information (c/o Lab Instructor)\n",
    "\n",
    "TOTAL SCORE: **[]**/100\n",
    "\n",
    "Score breakdown:\n",
    "* Problem 1 - []/100\n",
    "\n",
    "_Date and Time Scored (MM/DD/YYYY HH:MM AM/PM):_"
   ]
  },
  {
   "cell_type": "markdown",
   "metadata": {
    "id": "LxWuqiCFMsEh"
   },
   "source": [
    "### PROBLEM 1\n",
    "**The Schrodinger equation and the Crank-Nicolson method**\n",
    "\n",
    "_Refer to Exercise 9.8 in the Newman text._ In this problem, you will use the Crank-Nicolson method to solve the full time-dependent Schrodinger equation and hence develop a picture of how a wavefunction evolves over time.\n",
    "\n",
    "Consider an electron (mass $M = 9.109 \\times 10^{-31}$ kg) in a box of length $L = 10^{-8}$ m. Suppose that at time $t = 0$ the wavefunction of the electron has the form\n",
    "\n",
    "$$ \\psi(x,0) = \\exp\\left[-\\frac{(x-x_0)^2}{2\\sigma^2}\\right]e^{i\\kappa x},$$\n",
    "where $x_0 = \\frac{L}{2}$, $\\sigma = 1 \\times 10^{-10}$ m, $\\kappa = 5 \\times 10^{10} {\\rm m}^{-1}$,  and $\\psi = 0$ on the walls at $x = 0$ and $x = L$."
   ]
  },
  {
   "cell_type": "markdown",
   "metadata": {
    "id": "VIkyCA1L2Vlt"
   },
   "source": [
    "1. Perform a single step of the Crank-Nicolson method for this electron, calculating the vector $\\psi(t)$ of values of the wavefunction, given the initial wavefunction above and using $N = 1000$ spatial slices with $a = L/N$. Your program will have to perform the following steps. First, given the vector $\\psi(0)$ at $t = 0$, you will have to multiply by the matrix $\\bf{B}$ to get a vector $\\bf{v} = \\bf{B}\\psi$. Because of the tridiagonal form of $\\bf{B}$, this is fairly simple. The $i$th component of $\\bf{v}$ is given by\n",
    "$$ v_i = b_1\\psi_i + b_2(\\psi_{i+1} + \\psi_{i-1}).$$\n",
    "\n",
    "   You will also have to choose a value for the time-step $h$. A reasonable choice is $h = 10^{-18}$ s. *(30 pts.)*\n",
    "\n",
    "2. Second you will have to solve the linear system ${\\bf Ax}= {\\bf v}$ for $\\bf{x}$, which gives you the new value of $\\psi$. You could do this using a standard linear equation solver like the function $\\tt solve$ in numpy's $\\tt linalg$. *(20 pts.)*\n",
    "\n",
    "3. Once you have the code in place to perform a single step of the calculation, extend your program to perform repeated steps and hence solve for $\\psi$ at a sequence of times a separation $h$ apart. Note that the matrix $\\bf A$ is independent of time, so it doesn't change from one step to another. You can set up the matrix just once and then keep on reusing it for every step. *(30 pts.)*\n",
    "\n",
    "4. Make an animation of the solution by displaying the real part of the wavefunction at each time-step. You can use the function rate from the package visual to ensure a smooth frame-rate for your animation-- see Section 3.5 on page 117 of the Newman text.\n",
    "\n",
    "   Run your animation for a while and describe what you see. Write a few sentences explaining in physics terms what is going on in the system. *(20 pts.)*"
   ]
  },
  {
   "cell_type": "markdown",
   "metadata": {},
   "source": [
    "## Function to solve for x from Ax = v"
   ]
  },
  {
   "cell_type": "code",
   "execution_count": 3,
   "metadata": {
    "id": "m65Tzn63KiHg"
   },
   "outputs": [],
   "source": [
    "from numpy import copy\n",
    "\n",
    "def banded(Aa,va,up,down):\n",
    "  A = copy(Aa)\n",
    "  v = copy(va)\n",
    "  N = len(v)\n",
    "\n",
    "  # Gaussian elimination\n",
    "  for m in range(N):\n",
    "\n",
    "    # Normalization factor\n",
    "    div = A[up,m]\n",
    "\n",
    "    # Update the vector first\n",
    "    v[m] /= div\n",
    "    for k in range(1,down+1):\n",
    "      if m+k<N:\n",
    "        v[m+k] -= A[up+k,m]*v[m]\n",
    "\n",
    "    # Now normalize and subtract the pivot row\n",
    "    for i in range(up):\n",
    "      j = m + up - i\n",
    "      if j<N:\n",
    "        A[i,j] /= div\n",
    "        for k in range(1,down+1):\n",
    "          A[i+k,j] -= A[up+k,m]*A[i,j]\n",
    "\n",
    "  # Backsubstitution\n",
    "  for m in range(N-2,-1,-1):\n",
    "    for i in range(up):\n",
    "      j = m + up - i\n",
    "      if j<N:\n",
    "        v[m] -= A[i,j]*v[j]\n",
    "\n",
    "  return v"
   ]
  },
  {
   "cell_type": "markdown",
   "metadata": {},
   "source": [
    "# Main Code"
   ]
  },
  {
   "cell_type": "code",
   "execution_count": 1,
   "metadata": {
    "colab": {
     "base_uri": "https://localhost:8080/",
     "height": 447
    },
    "id": "hMqWOsbIMoUh",
    "outputId": "7be9cba5-d770-4fc5-cb5f-f92280e14e8c"
   },
   "outputs": [
    {
     "ename": "NameError",
     "evalue": "name 'banded' is not defined",
     "output_type": "error",
     "traceback": [
      "\u001b[1;31m---------------------------------------------------------------------------\u001b[0m",
      "\u001b[1;31mNameError\u001b[0m                                 Traceback (most recent call last)",
      "Cell \u001b[1;32mIn[1], line 49\u001b[0m\n\u001b[0;32m     47\u001b[0m \u001b[38;5;28;01mfor\u001b[39;00m i \u001b[38;5;129;01min\u001b[39;00m \u001b[38;5;28mrange\u001b[39m(\u001b[38;5;241m5500\u001b[39m):\n\u001b[0;32m     48\u001b[0m   v \u001b[38;5;241m=\u001b[39m b1\u001b[38;5;241m*\u001b[39mpsi[\u001b[38;5;241m1\u001b[39m:N] \u001b[38;5;241m+\u001b[39m b2\u001b[38;5;241m*\u001b[39m(psi[\u001b[38;5;241m2\u001b[39m:N\u001b[38;5;241m+\u001b[39m\u001b[38;5;241m1\u001b[39m] \u001b[38;5;241m+\u001b[39m psi[\u001b[38;5;241m0\u001b[39m:N\u001b[38;5;241m-\u001b[39m\u001b[38;5;241m1\u001b[39m])    \u001b[38;5;66;03m#create an array v\u001b[39;00m\n\u001b[1;32m---> 49\u001b[0m   psi[\u001b[38;5;241m1\u001b[39m:N] \u001b[38;5;241m=\u001b[39m banded(A,v,\u001b[38;5;241m1\u001b[39m,\u001b[38;5;241m1\u001b[39m)        \u001b[38;5;66;03m#send the array A to the banded function. In the function, we solve for x from Ax = v.\u001b[39;00m\n\u001b[0;32m     51\u001b[0m   \u001b[38;5;66;03m#Generate and save the wavefunction plot every 50th time-step\u001b[39;00m\n\u001b[0;32m     52\u001b[0m   \u001b[38;5;28;01mif\u001b[39;00m i \u001b[38;5;241m%\u001b[39m \u001b[38;5;241m50\u001b[39m \u001b[38;5;241m==\u001b[39m \u001b[38;5;241m0\u001b[39m:  \n",
      "\u001b[1;31mNameError\u001b[0m: name 'banded' is not defined"
     ]
    }
   ],
   "source": [
    "import numpy as np\n",
    "import matplotlib.pyplot as plt\n",
    "\n",
    "#define initial wavefunction\n",
    "def psi0(x, x0, sigma, kappa):\n",
    "  return np.exp(-((x-x0)**2) / (2*sigma**2))*np.exp(1j*kappa*x)\n",
    "\n",
    "\n",
    "#define constants\n",
    "m = 9.109e-31\n",
    "L = 1.0e-8\n",
    "N = 1000\n",
    "a = L/N\n",
    "h = 1.0e-18\n",
    "\n",
    "h_bar = 1.0545718e-34\n",
    "\n",
    "x0 = L/2\n",
    "sigma = 1.0e-10\n",
    "kappa = 5.0e+10\n",
    "\n",
    "#define equations to determine the elements in the tridiagonal array\n",
    "a1 = 1 + h*(1j*h_bar)/(2*m*a**2)\n",
    "a2 = - h*(1j*h_bar)/(4*m*a**2)\n",
    "b1 = 1 - h*(1j*h_bar)/(2*m*a**2)\n",
    "b2 = h*(1j*h_bar)/(4*m*a**2)\n",
    "\n",
    "#define array where the wavefunctions will be stored\n",
    "psi = np.zeros(N+1, complex)\n",
    "\n",
    "#define array containing values for the x-axis\n",
    "x_values = np.linspace(0, L, N + 1)\n",
    "\n",
    "psi[:] = psi0(x_values, x0, sigma, kappa)     #call the initial wavefunction, psi0, then assign its values to psi\n",
    "psi[[0,N]] = 0     #boundary condition \n",
    "\n",
    "#create a matrix A with a2 in the first row, a1 in the second, and a2 in the third row\n",
    "#this will be used to create the tridiagonal later, through the banded function\n",
    "A = np.empty((3,N), complex)\n",
    "A[0,:] = a2     #first row\n",
    "A[1,:] = a1     #second row\n",
    "A[2:,] = a2     #third row\n",
    "\n",
    "\n",
    "\n",
    "#Crank-Nicolson method\n",
    "for i in range(5500):\n",
    "  v = b1*psi[1:N] + b2*(psi[2:N+1] + psi[0:N-1])    #create an array v\n",
    "  psi[1:N] = banded(A,v,1,1)        #send the array A to the banded function. In the function, we solve for x from Ax = v.\n",
    "  \n",
    "  #Generate and save the wavefunction plot every 50th time-step\n",
    "  if i % 50 == 0:  \n",
    "   plt.plot(x_values, psi)\n",
    "   plt.ylim(-1,1)\n",
    "   plt.xlabel(\"x\")\n",
    "   plt.ylabel(\"ψ\")\n",
    "   plt.savefig(str(i))\n",
    "   plt.show()\n",
    "\n",
    "\n",
    "\n"
   ]
  },
  {
   "cell_type": "markdown",
   "metadata": {},
   "source": [
    "## Animation"
   ]
  },
  {
   "cell_type": "markdown",
   "metadata": {},
   "source": [
    "### See animation here:"
   ]
  },
  {
   "cell_type": "markdown",
   "metadata": {},
   "source": [
    "https://drive.google.com/file/d/1XeY0GGgTy5ZWPza5LDv0zIzLiKOf6weB/view?usp=sharing"
   ]
  },
  {
   "cell_type": "markdown",
   "metadata": {},
   "source": [
    "We can see in the animation how the wave packet is located around x=L/2 initially, then starts moving to the right. This movement is caused by the initial momentum component introduced by the exp(ikx) term. At the boundaries, x = 0 and x = L, the wavefunction is zero. Hence, the wave packet reflects. \n",
    "\n",
    "After reflection, we see how the amplitude of the wave packet decreases. This is because when a reflected wave encounters an incident wave, and they are out-of-phase with each other, then destructive interference occurs.\n",
    "\n",
    "We can also see how the wave packet spreads out over time. This is because of the gaussian term in the wavefunction. By the uncertainty principle, since the uncertainty of the position increases (as shown by the wave packet being spread out along x),  the uncertainty of momentum decreases. \n",
    "\n"
   ]
  },
  {
   "cell_type": "code",
   "execution_count": null,
   "metadata": {},
   "outputs": [],
   "source": []
  }
 ],
 "metadata": {
  "colab": {
   "provenance": []
  },
  "kernelspec": {
   "display_name": "Python 3 (ipykernel)",
   "language": "python",
   "name": "python3"
  },
  "language_info": {
   "codemirror_mode": {
    "name": "ipython",
    "version": 3
   },
   "file_extension": ".py",
   "mimetype": "text/x-python",
   "name": "python",
   "nbconvert_exporter": "python",
   "pygments_lexer": "ipython3",
   "version": "3.11.4"
  }
 },
 "nbformat": 4,
 "nbformat_minor": 1
}
