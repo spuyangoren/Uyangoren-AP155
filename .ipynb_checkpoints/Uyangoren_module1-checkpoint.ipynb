{
 "cells": [
  {
   "cell_type": "markdown",
   "metadata": {
    "id": "G0BcK0H_G1Iu"
   },
   "source": [
    "# **AP155 Lab Assignment**\n",
    "## Module 1: Integrals and Derivatives\n",
    "\n",
    "_Instructions_: Answer each problem as completely as you can. Discuss **all** your answers as clearly and concisely as possible.\n",
    "\n",
    "_Scoring Criteria_: 50% - *correctness of code*; 50% - *discussion of the code and results*. Maximum score is **100 points**.\n",
    "\n",
    "\n"
   ]
  },
  {
   "cell_type": "markdown",
   "metadata": {
    "id": "PeHZ9kP8JaVR"
   },
   "source": [
    "### Student Information\n",
    "\n",
    "_Full Name (Last Name, First Name)_: Uyangoren, Seanuel\\\n",
    "_Student No._: 2021-07208\\\n",
    "_Section_: FX-3"
   ]
  },
  {
   "cell_type": "markdown",
   "metadata": {
    "id": "Hc183co-J4eI"
   },
   "source": [
    "### Submission Information\n",
    "\n",
    "_Date and Time Submitted (most recent upload)_: 10/26/2023, 1:20PM\n",
    "\n",
    "**HONOR PLEDGE** I affirm that I have upheld the highest principles of honesty and integrity in my academic work and that this lab assignment is my own work.\n",
    "\n",
    "**Sign here with your full name:** Seanuel Joash Uyangoren"
   ]
  },
  {
   "cell_type": "markdown",
   "metadata": {
    "id": "X1UGsRpW-eQs"
   },
   "source": [
    "### Grading Information (c/o Lab Instructor)\n",
    "\n",
    "TOTAL SCORE: **XX**/100\n",
    "\n",
    "Score breakdown:\n",
    "* Problem 1 - 30/30\n",
    "* Problem 2 - 30/30\n",
    "* Problem 3 - 35/40\n",
    "\n",
    "_Date and Time Scored (MM/DD/YYYY HH:MM AM/PM):_"
   ]
  },
  {
   "cell_type": "markdown",
   "metadata": {
    "id": "LxWuqiCFMsEh"
   },
   "source": [
    "### PROBLEM 1\n",
    "**Integration using the trapezoidal rule and Simpson's rule**\n",
    "\n",
    "Calculate the integral of the function $ 2x^4 + 3x^2 + 4x + 5$ from $x=0$ to $x=5$.\n",
    "\n",
    "1. Do the numerical calculation using the trapezoidal rule with 10, 100, and 1,000 slices. Describe each step of the calculation clearly and concisely. *(10 pts.)*\n",
    "\n",
    "2. What are the percentage errors of your answers in (1)? *(10 pts.)*\n",
    "\n",
    "3. Repeat the calculation using Simpson's rule with 10, 100, and 1,000 slices. Describe each step of the calculation clearly and concisely. *(5 pts.)*\n",
    "\n",
    "4. What are the percentage errors of your answers in (3)? How do they compare with the results from (1) for the same number of slices? *(5 pts.)*"
   ]
  },
  {
   "cell_type": "markdown",
   "metadata": {
    "id": "_RSW5VCat3bE"
   },
   "source": [
    "## Trapezoidal Rule Calculation and %Error\n",
    "\n",
    "**N=10:**"
   ]
  },
  {
   "cell_type": "code",
   "execution_count": null,
   "metadata": {
    "id": "hMqWOsbIMoUh",
    "outputId": "a0ad1518-59ff-4630-8857-ee970a1aca36",
    "scrolled": true
   },
   "outputs": [
    {
     "name": "stdout",
     "output_type": "stream",
     "text": [
      "Trapezoidal rule integral (N=10): 1471.4375\n",
      "%Error: 1.478448275862069\n"
     ]
    }
   ],
   "source": [
    "#define function\n",
    "def f(x):\n",
    "    return 2*(x**4) + 3*(x**2) + 4*x + 5\n",
    "\n",
    "N = 10     #number of slices\n",
    "a = 0.0    #integration limit\n",
    "b = 5.0    #integration limit\n",
    "h = (b-a)/N    #width of slices\n",
    "\n",
    "s = (1/2)*f(a) + (1/2)*f(b)    #first and last terms of trapezoidal rule area\n",
    "\n",
    "for i in range(1, N):         #evaluate area of all trapezoids in between a and b\n",
    "    s = s + f(a+i*h)\n",
    "\n",
    "area = h*s          #Multiply by h to get the total area, i.e. the integral\n",
    "\n",
    "print(\"Trapezoidal rule integral (N=10): \" + str(area))\n",
    "\n",
    "#determine  %error\n",
    "actual_value = 1450.0\n",
    "percent_error = ((abs(actual_value - area))/actual_value)*100\n",
    "print(\"%Error: \" + str(percent_error))"
   ]
  },
  {
   "cell_type": "markdown",
   "metadata": {
    "id": "C8VC4hGNt3bH"
   },
   "source": [
    "\n",
    "\n",
    "**N=100:**"
   ]
  },
  {
   "cell_type": "code",
   "execution_count": null,
   "metadata": {
    "id": "5GpKOH-ft3bH",
    "outputId": "9a49d945-8a3f-4122-b85e-229573c8c882",
    "scrolled": true
   },
   "outputs": [
    {
     "name": "stdout",
     "output_type": "stream",
     "text": [
      "Trapezoidal rule integral (N=100): 1450.2145812500003\n",
      "%Error: 0.014798706896569988\n"
     ]
    }
   ],
   "source": [
    "#define function\n",
    "def f(x):\n",
    "    return 2*(x**4) + 3*(x**2) + 4*x + 5\n",
    "\n",
    "N = 100     #number of slices\n",
    "a = 0.0    #integration limit\n",
    "b = 5.0    #integration limit\n",
    "h = (b-a)/N    #width of slices\n",
    "\n",
    "s = (1/2)*f(a) + (1/2)*f(b)    #first and last terms of trapezoidal rule area\n",
    "\n",
    "for i in range(1, N):         #evaluate area of all trapezoids in between a and b\n",
    "    s = s + f(a+i*h)\n",
    "\n",
    "area = h*s          #Multiply by h to get the total area, i.e. the integral\n",
    "\n",
    "print(\"Trapezoidal rule integral (N=100): \" + str(area))\n",
    "\n",
    "#determine  %error\n",
    "actual_value = 1450.0\n",
    "percent_error = ((abs(actual_value - area))/actual_value)*100\n",
    "print(\"%Error: \" + str(percent_error))"
   ]
  },
  {
   "cell_type": "markdown",
   "metadata": {
    "id": "nHIM8_G0t3bI"
   },
   "source": [
    "\n",
    "\n",
    "**N=1000**"
   ]
  },
  {
   "cell_type": "code",
   "execution_count": null,
   "metadata": {
    "id": "KtTIfsbit3bI",
    "outputId": "4e4cae31-8b8d-4145-ff8c-a1fac4397c13",
    "scrolled": true
   },
   "outputs": [
    {
     "name": "stdout",
     "output_type": "stream",
     "text": [
      "Trapezoidal rule integral (N=1000): 1450.000021458334\n",
      "%Error: 1.47988510371792e-06\n"
     ]
    }
   ],
   "source": [
    "#define function\n",
    "def f(x):\n",
    "    return 2*(x**4) + 3*(x**2) + 4*x + 5\n",
    "\n",
    "N = 10000     #number of slices\n",
    "a = 0.0    #integration limit\n",
    "b = 5.0    #integration limit\n",
    "h = (b-a)/N    #width of slices\n",
    "\n",
    "s = (1/2)*f(a) + (1/2)*f(b)    #first and last terms of trapezoidal rule area\n",
    "\n",
    "for i in range(1, N):         #evaluate area of all trapezoids in between a and b\n",
    "    s = s + f(a+i*h)\n",
    "\n",
    "area = h*s          #Multiply by h to get the total area, i.e. the integral\n",
    "\n",
    "print(\"Trapezoidal rule integral (N=1000): \" + str(area))\n",
    "\n",
    "#determine  %error\n",
    "actual_value = 1450.0\n",
    "percent_error = ((abs(actual_value - area))/actual_value)*100\n",
    "print(\"%Error: \" + str(percent_error))"
   ]
  },
  {
   "cell_type": "markdown",
   "metadata": {
    "id": "NIRB7Cekt3bJ"
   },
   "source": [
    "**From the above codes, the error of the trapezoidal rule decreases as N is increased, meaning, the number of slices within the area of integration is increased.**"
   ]
  },
  {
   "cell_type": "markdown",
   "metadata": {
    "id": "hCMWhim_t3bJ"
   },
   "source": [
    "## Simpson's Rule Calculation and %Error\n",
    "\n",
    "**N=10**"
   ]
  },
  {
   "cell_type": "code",
   "execution_count": null,
   "metadata": {
    "id": "caBjwHqWt3bJ",
    "outputId": "dbd4df50-e30b-4c1a-ea8e-39f1d9af36e6"
   },
   "outputs": [
    {
     "name": "stdout",
     "output_type": "stream",
     "text": [
      "Simpsons integral (N=100): 1450.0833333333333\n",
      "%Error: 0.005747126436776382\n"
     ]
    }
   ],
   "source": [
    "#define function\n",
    "def f(x):\n",
    "    return 2*(x**4) + 3*(x**2) + 4*x + 5\n",
    "\n",
    "N = 10     #number of slices\n",
    "a = 0.0    #integration limit\n",
    "b = 5.0    #integration limit\n",
    "h = (b-a)/N    #width of slices\n",
    "\n",
    "s = f(a) + f(b)    #define first and last terms\n",
    "\n",
    "#sum of odd terms\n",
    "for i in range(1, N, 2):        #iterate from 1 (1 not included) to N and increment by 2\n",
    "    s = s + 4*f(a+i*h)\n",
    "\n",
    "#sum of even terms\n",
    "for i in range(2, N-1, 2):        #iterate from 2 (1 not included) to N and increment by 2\n",
    "    s = s + 2*f(a+i*h)\n",
    "\n",
    "area = (1/3)*h*s          #Multiply by 1/3 * h to get the total area, i.e. the integral\n",
    "\n",
    "print(\"Simpsons integral (N=100): \" + str(area))\n",
    "\n",
    "#determine  %error\n",
    "actual_value = 1450.0\n",
    "percent_error = ((abs(actual_value - area))/actual_value)*100\n",
    "print(\"%Error: \" + str(percent_error))\n"
   ]
  },
  {
   "cell_type": "markdown",
   "metadata": {
    "id": "6qd-c9d9t3bK"
   },
   "source": [
    "\n",
    "\n",
    "**N=100**"
   ]
  },
  {
   "cell_type": "code",
   "execution_count": null,
   "metadata": {
    "id": "KUTlr_4rt3bK",
    "outputId": "8539abeb-6940-4027-f05b-ab11cd99ed9b"
   },
   "outputs": [
    {
     "name": "stdout",
     "output_type": "stream",
     "text": [
      "Simpsons integral (N=100): 1450.0000083333337\n",
      "%Error: 5.747126657485657e-07\n"
     ]
    }
   ],
   "source": [
    "#define function\n",
    "def f(x):\n",
    "    return 2*(x**4) + 3*(x**2) + 4*x + 5\n",
    "\n",
    "N = 100     #number of slices\n",
    "a = 0.0    #integration limit\n",
    "b = 5.0    #integration limit\n",
    "h = (b-a)/N    #width of slices\n",
    "\n",
    "s = f(a) + f(b)    #define first and last terms\n",
    "\n",
    "#sum of odd terms\n",
    "for i in range(1, N, 2):        #iterate from 1 (1 not included) to N and increment by 2\n",
    "    s = s + 4*f(a+i*h)\n",
    "\n",
    "#sum of even terms\n",
    "for i in range(2, N-1, 2):        #iterate from 2 (1 not included) to N and increment by 2\n",
    "    s = s + 2*f(a+i*h)\n",
    "\n",
    "area = (1/3)*h*s          #Multiply by 1/3 * h to get the total area, i.e. the integral\n",
    "\n",
    "print(\"Simpsons integral (N=100): \" + str(area))\n",
    "\n",
    "#determine  %error\n",
    "actual_value = 1450.0\n",
    "percent_error = ((abs(actual_value - area))/actual_value)*100\n",
    "print(\"%Error: \" + str(percent_error))\n"
   ]
  },
  {
   "cell_type": "markdown",
   "metadata": {
    "id": "7m5fb7p0t3bK"
   },
   "source": [
    "\n",
    "\n",
    "**N=1000**"
   ]
  },
  {
   "cell_type": "code",
   "execution_count": null,
   "metadata": {
    "id": "5KGYr4e7t3bK",
    "outputId": "842c91d5-efb2-49e7-810a-7fdf6444d227"
   },
   "outputs": [
    {
     "name": "stdout",
     "output_type": "stream",
     "text": [
      "Simpsons integral (N=100): 1450.000000000834\n",
      "%Error: 5.75176994155707e-11\n"
     ]
    }
   ],
   "source": [
    "#define function\n",
    "def f(x):\n",
    "    return 2*(x**4) + 3*(x**2) + 4*x + 5\n",
    "\n",
    "N = 1000     #number of slices\n",
    "a = 0.0    #integration limit\n",
    "b = 5.0    #integration limit\n",
    "h = (b-a)/N    #width of slices\n",
    "\n",
    "s = f(a) + f(b)    #define first and last terms\n",
    "\n",
    "#sum of odd terms\n",
    "for i in range(1, N, 2):        #iterate from 1 (1 not included) to N and increment by 2\n",
    "    s = s + 4*f(a+i*h)\n",
    "\n",
    "#sum of even terms\n",
    "for i in range(2, N-1, 2):        #iterate from 2 (1 not included) to N and increment by 2\n",
    "    s = s + 2*f(a+i*h)\n",
    "\n",
    "area = (1/3)*h*s          #Multiply by 1/3 * h to get the total area, i.e. the integral\n",
    "\n",
    "print(\"Simpsons integral (N=100): \" + str(area))\n",
    "\n",
    "#determine  %error\n",
    "actual_value = 1450.0\n",
    "percent_error = ((abs(actual_value - area))/actual_value)*100\n",
    "print(\"%Error: \" + str(percent_error))\n"
   ]
  },
  {
   "cell_type": "markdown",
   "metadata": {
    "id": "79tkseQ2t3bL"
   },
   "source": [
    "**From the above codes, the error decreases as N increases. Furthermore, comparing the error produced by simpsons rule with the error produced by trapezoidal rule given the same N shows that the error produced using simpsons rule is lower than the error due to trapezoidal rule. Hence, integrating using simpsons rule gives a more accurate result.**"
   ]
  },
  {
   "cell_type": "markdown",
   "metadata": {
    "id": "m2a6sg90R-NX"
   },
   "source": [
    "### PROBLEM 2\n",
    "\n",
    "**Integration using Gaussian quadrature**\n",
    "\n",
    "Calculate the integral from Problem 1 using the Gaussian quadrature method: $ 2x^4 + 3x^2 + 4x + 5$ from $x=0$ to $x=5$.\n",
    "\n",
    "1. Define the function $\\tt gaussxw$ from Appendix E of the Newman text (and run the cell). *(10 pts.)*\n",
    "\n",
    "2. Calculate the integral using the $\\tt gaussxw$ function in (1) and number of slices $N = 3$. Describe each step in the calculation clearly and concisely. *(20 pts.)*"
   ]
  },
  {
   "cell_type": "markdown",
   "metadata": {
    "id": "GJHz-IV-u3Es"
   },
   "source": [
    "**Define function gaussxw**"
   ]
  },
  {
   "cell_type": "code",
   "execution_count": 19,
   "metadata": {
    "id": "x-uuSKXXuW_A"
   },
   "outputs": [],
   "source": [
    "from numpy import ones,copy,cos,tan,pi,linspace\n",
    "\n",
    "def gaussxw(N):\n",
    "  # Initial approximation to roots of the Legendre polynomial\n",
    "  a = linspace(3,4*N-1,N)/(4*N+2)\n",
    "  x = cos(pi*a+1/(8*N*N*tan(a)))\n",
    "\n",
    "  # Find roots using Newton's method\n",
    "  epsilon = 1e-15\n",
    "  delta = 1.0\n",
    "\n",
    "  while delta>epsilon:\n",
    "    p0 = ones(N,float)\n",
    "    p1 = copy(x)\n",
    "\n",
    "    for k in range(1,N):\n",
    "      p0,p1 = p1,((2*k+1)*x*p1-k*p0)/(k+1)\n",
    "\n",
    "    dp = (N+1)*(p0-x*p1)/(1-x*x)\n",
    "    dx = p1/dp\n",
    "    x -= dx\n",
    "    delta= max(abs(dx))\n",
    "\n",
    "  # Calculate the weights\n",
    "  w = 2*(N+1)*(N+1)/(N*N*(1-x*x)*dp*dp)\n",
    "\n",
    "  return x,w\n"
   ]
  },
  {
   "cell_type": "markdown",
   "metadata": {
    "id": "2uZ00andxLQ-"
   },
   "source": [
    "**Evaluate integral of function using gaussxw()**"
   ]
  },
  {
   "cell_type": "code",
   "execution_count": 20,
   "metadata": {
    "colab": {
     "base_uri": "https://localhost:8080/"
    },
    "id": "h0gc6TsKt3bL",
    "outputId": "a1fa924e-1542-45d9-888e-acdd7313e065"
   },
   "outputs": [
    {
     "name": "stdout",
     "output_type": "stream",
     "text": [
      "1450.000000000002\n"
     ]
    }
   ],
   "source": [
    "\n",
    "#define function\n",
    "def f(x):\n",
    "    return 2*(x**4) + 3*(x**2) + 4*x + 5\n",
    "\n",
    "#define number of quadrature points\n",
    "N = 3\n",
    "\n",
    "#define integration limits\n",
    "a = 0.0\n",
    "b = 5.0\n",
    "\n",
    "#Calculate number of points and weights using gaussxw() function\n",
    "x, w = gaussxw(N)\n",
    "\n",
    "#rescale x and w\n",
    "xp = (1/2)*(b-a)*x + (1/2)*(b+a)\n",
    "wp = (1/2)*(b-a)*w\n",
    "\n",
    "#integrate\n",
    "s = 0.0\n",
    "for i in range(N):\n",
    "    s = s + wp[i]*f(xp[i])\n",
    "\n",
    "\n",
    "print(s)"
   ]
  },
  {
   "cell_type": "markdown",
   "metadata": {
    "id": "HceOjNu-VfN9"
   },
   "source": [
    "### PROBLEM 3\n",
    "\n",
    "**Physics Application: Anharmonic Oscillator**\n",
    "\n",
    "_Refer to Exercise 5.10 of the Newman text._ Consider an anharmonic oscillator with potential $V(x)$ symmetric about $x = 0$. Let us set our anharmonic oscillator going with amplitude $a$. That is, at $t = 0$ we release it from rest at position $x = a$ and it swings back towards the origin. Then at $t = 0$ we have $dx/dt = 0$ and the equation for its total energy becomes $E = V(a)$, i.e., the total energy of the particle is given in terms of the amplitude.\n",
    "\n",
    "When the particle reaches the origin for the first time, it has gone through one quarter of a period of the oscillator. The period $T$ is given by: $$ T = \\sqrt{8m} \\int_0^a \\frac{dx}{\\sqrt{V(a)-V(x)}}. $$\n",
    "\n",
    "1. Suppose the potential is $V(x) = x^4$ and the mass of the particle is $m = 1$. Write a Python function that calculates the period of the oscillator for given amplitude a using Gaussian quadrature with $N = 20$ points. Describe each step clearly and concisely. *(20 pts.)*\n",
    "\n",
    "2. Use your function to make a graph of the period for amplitudes ranging from $a = 0$ to $a = 2$. Describe the behavior you find and explain these results clearly and concisely. *(20 pts.)*"
   ]
  },
  {
   "cell_type": "code",
   "execution_count": 72,
   "metadata": {
    "colab": {
     "base_uri": "https://localhost:8080/"
    },
    "id": "WqYnQdFA87qQ",
    "outputId": "ca50ad75-8d67-44c6-afc0-510385bfc043"
   },
   "outputs": [
    {
     "name": "stdout",
     "output_type": "stream",
     "text": [
      "1.8240470420216084\n"
     ]
    }
   ],
   "source": [
    "import math\n",
    "\n",
    "#define function of potential V(x) = x^4\n",
    "def V(x):\n",
    "  return x**4\n",
    "\n",
    "#define function inside the integral\n",
    "def integrand(x,a):\n",
    "  return 1/(math.sqrt(V(a) - V(x)))\n",
    "\n",
    "def T(N,a,m):\n",
    "\n",
    "  #calculate number of points and weights using gaussxw()\n",
    "  x, w = gaussxw(N)\n",
    "\n",
    "  #rescale x and w\n",
    "  xp = (1/2)*(a-0)*x + (1/2)*(a+0)\n",
    "  wp = (1/2)*(a-0)*w\n",
    "\n",
    "  #integrate\n",
    "  s = 0.0       #define s = 0 as initial value of integration\n",
    "  for k in range(N):\n",
    "    s = s + wp[k]*integrand(xp[k],a)      #s is the result of integration\n",
    "\n",
    "  #multiply the constant to the integral\n",
    "  period = math.sqrt(8*m)*s\n",
    "  return period\n",
    "\n",
    "N=20      #define number of points\n",
    "a = 2.0   #define amplitude\n",
    "m = 1.0   #define mass, m = 1.0\n",
    "\n",
    "print(T(N,a,m))\n",
    "\n",
    "\n",
    "\n"
   ]
  },
  {
   "cell_type": "markdown",
   "metadata": {
    "id": "cB4pImiw7wT6"
   },
   "source": [
    "**Code for plotting**"
   ]
  },
  {
   "cell_type": "code",
   "execution_count": 73,
   "metadata": {
    "colab": {
     "base_uri": "https://localhost:8080/",
     "height": 449
    },
    "id": "ZXHY1JsF70fO",
    "outputId": "1c0572ed-7d4a-4210-e114-c9124b06d6ee"
   },
   "outputs": [
    {
     "data": {
      "image/png": "[encoded data removed]",
      "text/plain": [
       "<Figure size 640x480 with 1 Axes>"
      ]
     },
     "metadata": {},
     "output_type": "display_data"
    }
   ],
   "source": [
    "import numpy as np\n",
    "import matplotlib.pyplot as plt\n",
    "\n",
    "N=20      #define number of points\n",
    "m = 1.0   #define mass, m = 1.0\n",
    "\n",
    "arr_amplitude = linspace(0.1,2,N)   #create a list containing amplitude from 0.1 to 2 with N slices\n",
    "arr_period = list()     #create an empty list arr_period\n",
    "\n",
    "for i in arr_amplitude:\n",
    "  arr_period.append(T(N,i,m))     #compute the period per amplitude value and append to arr_period\n",
    "\n",
    "\n",
    "#display plot\n",
    "plt.plot(arr_amplitude, arr_period, \"k.\")\n",
    "plt.xlabel(\"Amplitude\")\n",
    "plt.ylabel(\"Period\")\n",
    "plt.show()\n",
    "\n",
    "\n"
   ]
  },
  {
   "cell_type": "markdown",
   "metadata": {
    "id": "p-oLvbQOZU16"
   },
   "source": [
    "**From the figure, as amplitude increases, period decreases. This happens because, in anharmonic oscillators, the potential is nonlinear. As the amplitude increases, the potential energy also increases. From the equation, the potential energy is inversely proportional to the period.**\n",
    "\n",
    "\n",
    "**Physically, as the potential energy increases, the system effectively slows down. Thus, the oscillation is slower**"
   ]
  },
  {
   "cell_type": "markdown",
   "metadata": {
    "id": "qk4DZLYyaoS0"
   },
   "source": [
    "<span style=\"color:blue\"> If the period becomes shorter (less time between cycles) then the oscillations are faster. And it is not the absolute amount of potential energy that determines how fast or slow the motion is, but rather its slope (in physics terms, the instantaneous force). </span>"
   ]
  },
  {
   "cell_type": "code",
   "execution_count": null,
   "metadata": {},
   "outputs": [],
   "source": []
  }
 ],
 "metadata": {
  "colab": {
   "provenance": []
  },
  "kernelspec": {
   "display_name": "Python 3 (ipykernel)",
   "language": "python",
   "name": "python3"
  },
  "language_info": {
   "codemirror_mode": {
    "name": "ipython",
    "version": 3
   },
   "file_extension": ".py",
   "mimetype": "text/x-python",
   "name": "python",
   "nbconvert_exporter": "python",
   "pygments_lexer": "ipython3",
   "version": "3.10.9"
  }
 },
 "nbformat": 4,
 "nbformat_minor": 1
}
