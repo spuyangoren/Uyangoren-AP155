{
 "cells": [
  {
   "cell_type": "markdown",
   "metadata": {
    "id": "G0BcK0H_G1Iu"
   },
   "source": [
    "# **AP155 Lab Assignment**\n",
    "## Module 2: Solution of Linear and Nonlinear Equations\n",
    "\n",
    "_Instructions_: Answer each problem as completely as you can. Discuss **all** your answers as clearly and concisely as possible.\n",
    "\n",
    "_Scoring Criteria_: 50% - *correctness of code*; 50% - *discussion of the code and results*. Maximum score is **100 points**.\n",
    "\n"
   ]
  },
  {
   "cell_type": "markdown",
   "metadata": {
    "id": "PeHZ9kP8JaVR"
   },
   "source": [
    "### Student Information\n",
    "\n",
    "_Full Name (Last Name, First Name)_: Uyangoren, Seanuel \\\n",
    "_Student No._: 2021-07208 \\\n",
    "_Section_:  FX-3"
   ]
  },
  {
   "cell_type": "markdown",
   "metadata": {
    "id": "Hc183co-J4eI"
   },
   "source": [
    "### Submission Information\n",
    "\n",
    "_Date and Time Submitted (most recent upload)_:\n",
    "\n",
    "**HONOR PLEDGE** I affirm that I have upheld the highest principles of honesty and integrity in my academic work and that this lab assignment is my own work.\n",
    "\n",
    "**Sign here with your full name:**"
   ]
  },
  {
   "cell_type": "markdown",
   "metadata": {
    "id": "4LUwfsfMBmvd"
   },
   "source": [
    "### Grading Information (c/o Lab Instructor)\n",
    "\n",
    "TOTAL SCORE: **XX**/100\n",
    "\n",
    "Score breakdown:\n",
    "* Problem 1 - 22/30\n",
    "* Problem 2 - 24/30\n",
    "* Problem 3 - 35/40\n",
    "\n"
   ]
  },
  {
   "cell_type": "markdown",
   "metadata": {
    "id": "kBX9EyMLOnXj"
   },
   "source": [
    "### PROBLEM 1\n",
    "\n",
    "**Solve for eigenvalues and eigenvectors of a symmetric matrix**\n",
    "\n",
    "1. Use numpy's $\\tt linalg$ package to find the eigenvalues and eigenvectors of the ff. symmetrix matrix *(15 pts.)*:\n",
    "\n",
    "$ \\begin{equation}\n",
    "{\\bf A} =\n",
    "\\begin{pmatrix}\n",
    "8 & -2 & -20 \\\\\n",
    "-2 & -3 & -9 \\\\\n",
    "-20 & -9 & -3\n",
    "\\end{pmatrix} \\end{equation} $\n",
    "\n",
    "2. Check your answer numerically; that is, check that $\\bf AV = VD$, where the $N$ x $N$ matrix $\\bf V$ has the eigenvectors as its columns and $\\bf D$ is the diagonal matrix with the eigenvalues $\\lambda_i$ as its diagonal entries. *(15 pts.)*"
   ]
  },
  {
   "cell_type": "code",
   "execution_count": 49,
   "metadata": {
    "colab": {
     "base_uri": "https://localhost:8080/"
    },
    "id": "GABjwlXCR97i",
    "outputId": "775be0ad-98af-4122-c772-2f85f873147c"
   },
   "outputs": [
    {
     "name": "stdout",
     "output_type": "stream",
     "text": [
      "eigenvalues: [-21.99606195   0.16021522  23.83584674]\n",
      "eigenvectors: [[ 0.52496527  0.36793396 -0.76748685]\n",
      " [ 0.40892672 -0.89987151 -0.15169114]\n",
      " [ 0.74645187  0.2342133   0.62285932]]\n"
     ]
    }
   ],
   "source": [
    "import numpy as np\n",
    "\n",
    "A = [[8, -2, -20], [-2, -3, -9], [-20, -9, -3]]       #define values of array\n",
    "eigenval, eigenvec = np.linalg.eigh(A)                #determine eigenvalues and eigenvectors of A\n",
    "print(\"eigenvalues: \" + str(eigenval))\n",
    "print(\"eigenvectors: \" + str(eigenvec))"
   ]
  },
  {
   "cell_type": "code",
   "execution_count": 60,
   "metadata": {
    "colab": {
     "base_uri": "https://localhost:8080/"
    },
    "id": "28uchqP81CeI",
    "outputId": "afc75ca4-0312-468c-b838-c57d596c980d"
   },
   "outputs": [
    {
     "name": "stdout",
     "output_type": "stream",
     "text": [
      "AV: [[-11.54716868   0.05894862 -18.29369893]\n",
      " [ -8.99477756  -0.14417311  -3.61568676]\n",
      " [-16.4190016    0.03752454  14.8463793 ]]\n",
      "VD: [[-11.54716868   0.05894862 -18.29369893]\n",
      " [ -8.99477756  -0.14417311  -3.61568676]\n",
      " [-16.4190016    0.03752454  14.8463793 ]]\n",
      "\n",
      "\n",
      "Check AV = VD\n",
      "[[False False  True]\n",
      " [False False False]\n",
      " [False False False]]\n",
      "\n",
      "\n",
      "Check AV = VD\n",
      "[[ 1.77635684e-15  5.96744876e-16  0.00000000e+00]\n",
      " [-1.77635684e-15 -1.05471187e-15  1.33226763e-15]\n",
      " [ 3.55271368e-15 -4.37150316e-16  8.88178420e-15]]\n"
     ]
    }
   ],
   "source": [
    "AV = np.matmul(A, eigenvec)                     #multiply matrix A and V (eigenvector)\n",
    "VD = np.matmul(eigenvec, np.diag(eigenval))     #multiply matrix V (eigenvector) and D (diagonal)\n",
    "\n",
    "print(\"AV: \" + str(AV))\n",
    "print(\"VD: \" + str(VD))\n",
    "\n",
    "print(\"\\n\")\n",
    "\n",
    "print(\"Check AV = VD\")\n",
    "print(AV == VD)                  #True or False\n",
    "print(\"\\n\")\n",
    "\n",
    "print(\"Check AV = VD\")\n",
    "print(AV - VD)                #Display difference. From the display, difference is either 0 or very very small. Thus, AV == VD approximately\n"
   ]
  },
  {
   "cell_type": "markdown",
   "metadata": {},
   "source": [
    "<span style=\"color:blue\"> Short discussion of results? Are they equal or not? </span>"
   ]
  },
  {
   "cell_type": "markdown",
   "metadata": {},
   "source": [
    "<span style=\"color:blue\">In this case, if the computer knows how to compute with arbitrary precision numbers they would be exactly equal. However, computers use floating point arithmetic, which introduces errors away from infinite precision math as you add, subtract, multiply and divide them. Exact equality of the entries is too strict in the precense of floating point arithmetic. One can for example calculate the Frobenius norm ||AV - VD|| and check if this is below a certain very small cutoff and that becomes the check for equality.</span>"
   ]
  },
  {
   "cell_type": "markdown",
   "metadata": {
    "id": "HceOjNu-VfN9"
   },
   "source": [
    "### PROBLEM 2\n",
    "\n",
    "**Solve a nonlinear equation using the relaxation method**\n",
    "\n",
    "Consider the equation $x=1- e^{-cx}$, where $c$ is a known parameter and $x$ is unknown. This equation arises in a variety of situations, including the physics of contact processes, mathematical models of epidemics, and the theory of random graphs.\n",
    "\n",
    "1. Write a program to solve this equation for $x$ using the relaxation method for the case $c = 2$. Calculate your solution to an accuracy of at least $10^{-6}$. *(10 pts.)*\n",
    "\n",
    "2. Modify your program to calculate the solution for values of $c$ from 0 to 3 in steps of 0.01. *(10 pts.)*\n",
    "\n",
    "3. Make a plot of $x$ as a function of $c$. Describe the different regimes that you see. *(10 pts.)*"
   ]
  },
  {
   "cell_type": "markdown",
   "metadata": {
    "id": "oBkhgkh0F21f"
   },
   "source": [
    "Import necessary packages"
   ]
  },
  {
   "cell_type": "code",
   "execution_count": 22,
   "metadata": {
    "id": "qHKFOqfECzx_"
   },
   "outputs": [],
   "source": [
    "import math\n",
    "import numpy as np\n",
    "import matplotlib.pyplot as plt"
   ]
  },
  {
   "cell_type": "markdown",
   "metadata": {
    "id": "f842cCkSF60Y"
   },
   "source": [
    "Program to solve the equation for c = 2"
   ]
  },
  {
   "cell_type": "code",
   "execution_count": 23,
   "metadata": {
    "colab": {
     "base_uri": "https://localhost:8080/"
    },
    "id": "U7hMUQGA-dYs",
    "outputId": "f081a33c-2e1e-46cd-d32e-0edfc1f9f477"
   },
   "outputs": [
    {
     "name": "stdout",
     "output_type": "stream",
     "text": [
      "0.8646647167633873\n",
      "0.8225966691808597\n",
      "0.8070247503317746\n",
      "0.8009201942366403\n",
      "0.7984747083247583\n",
      "0.7974866394625985\n",
      "0.797086049491047\n",
      "0.796923413762181\n",
      "0.7968573480008734\n",
      "0.7968305046795713\n",
      "0.7968195968986895\n",
      "0.7968151643557075\n",
      "0.7968133630966887\n",
      "0.7968126311118457\n"
     ]
    }
   ],
   "source": [
    "#initialize values of x and error\n",
    "x = 1.0\n",
    "c = 2.0\n",
    "error = 1.0\n",
    "accuracy = 1.0e-6\n",
    "\n",
    "while error > accuracy:     #This creates a loop that terminates when the error between the consecutive x values are already less than 10^-6\n",
    "  x, x_new = 1 - math.exp(-c*x), x                        #sets x as x_new while modifying x simultaneously following relaxation method\n",
    "  error = abs((x - x_new)/(1-1/(2*exp(-2*x_new))))        #determine error\n",
    "  print(x)\n"
   ]
  },
  {
   "cell_type": "code",
   "execution_count": 37,
   "metadata": {
    "colab": {
     "base_uri": "https://localhost:8080/",
     "height": 449
    },
    "id": "ilDo0DHsAp6s",
    "outputId": "bd702d79-0884-431e-b1c8-46351a7aff9f"
   },
   "outputs": [
    {
     "data": {
      "image/png": "[encoded data removed]",
      "text/plain": [
       "<Figure size 640x480 with 1 Axes>"
      ]
     },
     "metadata": {},
     "output_type": "display_data"
    }
   ],
   "source": [
    "\n",
    "a = 0.0\n",
    "b = 3.0\n",
    "step = 0.01\n",
    "arr_x = []        #define empty array\n",
    "arr_c = np.arange(a, b + step, step)      #define an array with elements from 0 to 3 with increments of 0.01\n",
    "\n",
    "\n",
    "for i in arr_c:\n",
    "  #initialize values for x and error\n",
    "  x = 1.0\n",
    "  error = 1.0\n",
    "  accuracy = 1.0e-6\n",
    "\n",
    "  #iterate loop and terminate when the error between two consecutive x's are less than 10^-6\n",
    "  while error > accuracy:\n",
    "    x, x_new = 1 - math.exp(-i*x), x\n",
    "    error = abs((x - x_new)/(1-1/(2*exp(-2*x_new))))        #error for relaxation method\n",
    "\n",
    "  arr_x = np.append(arr_x, x)           #append final x value for a given c to arr_x\n",
    "\n",
    "plt.scatter(arr_c, arr_x, marker = '.')       #scatter plot with dot markers\n",
    "plt.xlabel('c')\n",
    "plt.ylabel('x')\n",
    "plt.show()\n",
    "\n",
    "\n"
   ]
  },
  {
   "cell_type": "markdown",
   "metadata": {
    "id": "uMx06aJCg81f"
   },
   "source": [
    "From the plot, there is a region  of constant x as c is varied, from c = 0.0 to c = 1.0. From c = 1.0, x increases rapidly until it slows down, following a logarithmic trend. The plateauing of x while continously increasing c shows that x has started to stabilize. Hence, x starts to converge to what can be approximated as the solution of the equation.\n",
    "\n",
    "Meanwhile,the region from c = 0.0 to c = 1.0 shows nonchanging x because when c is very small, the exponent of e in $x=1- e^{-cx}$ approaches zero. Hence the equation becomes $x=1- 1$, which is not dependent on c."
   ]
  },
  {
   "cell_type": "markdown",
   "metadata": {},
   "source": [
    "<span style=\"color:blue\">x is not stabilizing to some solution of the equation as you go from left to right on the graph, each point on the graph is a solution of the equation at that particular value of c.</span>"
   ]
  },
  {
   "cell_type": "markdown",
   "metadata": {},
   "source": [
    "<span style=\"color:blue\"> Also graph does not scale up logarithmically. Locally, it is tangent to a line with slope 2. Around c = 1, one can fit something like $$x(1 + e) = \\frac{2e}{(1+e)^2} $$\n",
    "by doing an expansion around the solution c = 1, x = 0. Like c = 1 + e, x = 0 + f(e)\n",
    "</span>"
   ]
  },
  {
   "cell_type": "markdown",
   "metadata": {
    "id": "BY5x-mZsYoqG"
   },
   "source": [
    "### PROBLEM 3\n",
    "\n",
    "**Physics Application: Calculating the Lagrange point**\n",
    "\n",
    "_Refer to Exercise 6.16 of the Newman text._ The $L_1$ Lagrange point is the point between the Earth and the Moon at which a satellite will orbit the Earth in perfect synchrony with the Moon, staying always in between the two.\n",
    "\n",
    "Assuming circular orbits, and assuming that the Earth is much more massive than either the Moon or the satellite, the distance $r$ from the center of the Earth to the $L_1$ point satisfies\n",
    "$$ \\begin{equation}\n",
    "\\frac{GM}{r^2} - \\frac{Gm}{(R-r)^2} = \\omega^2 r,\n",
    "\\end{equation} $$\n",
    "where $R$ is the distance from the Earth to the Moon, $M$ and $m$ are the Earth and Moon masses, $G$ is Newton's gravitational constant, and $\\omega$ is the angular velocity of both the Moon and the satellite."
   ]
  },
  {
   "cell_type": "markdown",
   "metadata": {
    "id": "LlDDXIZ46CKU"
   },
   "source": [
    "Use Newton's method to solve for the distance r from the Earth to the $L_1$ point. Compute a solution accurate to at least four significant figures."
   ]
  },
  {
   "cell_type": "code",
   "execution_count": 62,
   "metadata": {
    "colab": {
     "base_uri": "https://localhost:8080/"
    },
    "id": "Jiu5YAx6aMmq",
    "outputId": "1e047c26-22ce-41cb-afc2-fb45e7f36ddb"
   },
   "outputs": [
    {
     "name": "stdout",
     "output_type": "stream",
     "text": [
      "1.5\n",
      "2.25\n",
      "3.375\n",
      "5.0625\n",
      "7.59375\n",
      "11.390625\n",
      "17.0859375\n",
      "25.62890625\n",
      "38.443359375\n",
      "57.6650390625\n",
      "86.49755859375\n",
      "129.74633789062497\n",
      "194.6195068359374\n",
      "291.9292602539058\n",
      "437.89389038085767\n",
      "656.840835571283\n",
      "985.2612533569128\n",
      "1477.8918800353295\n",
      "2216.8378200528596\n",
      "3325.256730078836\n",
      "4987.885095116722\n",
      "7481.82764266991\n",
      "11222.741463987391\n",
      "16834.11219592204\n",
      "25251.16829368341\n",
      "37876.75243984945\n",
      "56815.12865748442\n",
      "85222.69297845129\n",
      "127834.03944119503\n",
      "191751.05907120064\n",
      "287626.5882948997\n",
      "431439.88135852944\n",
      "647159.8182221837\n",
      "970739.7136571091\n",
      "1456109.5202860178\n",
      "2184164.090537579\n",
      "3276245.3912895764\n",
      "4914365.049427552\n",
      "7371534.665032329\n",
      "11057244.968665788\n",
      "16585606.784109503\n",
      "24877184.798821\n",
      "37309889.39867306\n",
      "55936081.64921658\n",
      "83762181.42067559\n",
      "124939831.36256376\n",
      "183962166.24974036\n",
      "259889845.27671903\n",
      "324913890.0020797\n",
      "326063345.2933416\n",
      "326045076.5547929\n",
      "326045071.6653558\n",
      "326045071.66535544\n"
     ]
    }
   ],
   "source": [
    "#define f(x)\n",
    "def f(G, M, m, R, r, w):\n",
    "  return (G*M)/r**2 - (G*m)/(R-r)**2 - (w**2)*r\n",
    "\n",
    "#define f'(x)\n",
    "def df(G, M, m, R, r, w):\n",
    "  return (-2*G*M)/r**3 - (2*G*m)/(R-r)**3 - w**2\n",
    "\n",
    "#define constant values\n",
    "G = 6.674e-11\n",
    "M = 5.974e+24\n",
    "m = 7.348e+22\n",
    "R = 3.844e+8\n",
    "w = 2.662e-6\n",
    "\n",
    "accuracy = 1e-4\n",
    "\n",
    "#initialize values for r and delta\n",
    "r = 1.0\n",
    "delta = 1.0\n",
    "\n",
    "#Newton-Rhapson Method\n",
    "while abs(delta) > accuracy:\n",
    "\n",
    "  # f(x) / f'(x)\n",
    "  delta = f(G, M, m, R, r, w) / df(G, M, m, R, r, w)\n",
    "\n",
    "  # x' = x - f(x) / f'(x)\n",
    "  r = r - delta\n",
    "\n",
    "  print(r)\n"
   ]
  },
  {
   "cell_type": "markdown",
   "metadata": {},
   "source": [
    "<span style=\"color:blue\"> Short discussion of results? For example, what should be the literature value? </span>"
   ]
  },
  {
   "cell_type": "code",
   "execution_count": null,
   "metadata": {},
   "outputs": [],
   "source": []
  }
 ],
 "metadata": {
  "colab": {
   "provenance": []
  },
  "kernelspec": {
   "display_name": "Python 3 (ipykernel)",
   "language": "python",
   "name": "python3"
  },
  "language_info": {
   "codemirror_mode": {
    "name": "ipython",
    "version": 3
   },
   "file_extension": ".py",
   "mimetype": "text/x-python",
   "name": "python",
   "nbconvert_exporter": "python",
   "pygments_lexer": "ipython3",
   "version": "3.10.9"
  }
 },
 "nbformat": 4,
 "nbformat_minor": 1
}
